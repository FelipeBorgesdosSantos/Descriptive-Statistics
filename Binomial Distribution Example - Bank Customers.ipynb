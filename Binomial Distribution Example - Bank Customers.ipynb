{
 "cells": [
  {
   "cell_type": "code",
   "execution_count": 2,
   "id": "a6b567a1",
   "metadata": {},
   "outputs": [],
   "source": [
    "import numpy as np\n",
    "import scipy.stats as stats\n",
    "import matplotlib.pyplot as plt"
   ]
  },
  {
   "cell_type": "code",
   "execution_count": 3,
   "id": "f6d02449",
   "metadata": {},
   "outputs": [],
   "source": [
    "n = 5"
   ]
  },
  {
   "cell_type": "code",
   "execution_count": 4,
   "id": "5d6b51ee",
   "metadata": {},
   "outputs": [],
   "source": [
    "p = 0.08"
   ]
  },
  {
   "cell_type": "code",
   "execution_count": 6,
   "id": "b589e037",
   "metadata": {},
   "outputs": [
    {
     "data": {
      "text/plain": [
       "array([0, 1, 2, 3, 4, 5])"
      ]
     },
     "execution_count": 6,
     "metadata": {},
     "output_type": "execute_result"
    }
   ],
   "source": [
    "#Create an array of successes payment possible scenarios for the 7 people:\n",
    "k=np.arange(0,6)\n",
    "k"
   ]
  },
  {
   "cell_type": "code",
   "execution_count": 7,
   "id": "a8fe3f09",
   "metadata": {},
   "outputs": [],
   "source": [
    "#Calculates binomial probabilty function for all of the k sucess values:\n",
    "binomial = stats.binom.pmf(k,n,p)"
   ]
  },
  {
   "cell_type": "code",
   "execution_count": 8,
   "id": "69984514",
   "metadata": {},
   "outputs": [
    {
     "data": {
      "text/plain": [
       "array([6.59081523e-01, 2.86557184e-01, 4.98360320e-02, 4.33356800e-03,\n",
       "       1.88416000e-04, 3.27680000e-06])"
      ]
     },
     "execution_count": 8,
     "metadata": {},
     "output_type": "execute_result"
    }
   ],
   "source": [
    "binomial\n",
    "# Array of probability from 0 to 7 people paying on time (success) picking 7 individuals:"
   ]
  },
  {
   "cell_type": "code",
   "execution_count": 9,
   "id": "3d64d19e",
   "metadata": {},
   "outputs": [
    {
     "data": {
      "text/plain": [
       "0.6590815232000001"
      ]
     },
     "execution_count": 9,
     "metadata": {},
     "output_type": "execute_result"
    }
   ],
   "source": [
    "binomial[0]"
   ]
  },
  {
   "cell_type": "code",
   "execution_count": 10,
   "id": "04830a32",
   "metadata": {},
   "outputs": [
    {
     "data": {
      "text/plain": [
       "0.05436129280000002"
      ]
     },
     "execution_count": 10,
     "metadata": {},
     "output_type": "execute_result"
    }
   ],
   "source": [
    "binomial[2]+binomial[3]+binomial[4]+binomial[5]"
   ]
  },
  {
   "cell_type": "code",
   "execution_count": 9,
   "id": "9dc2f2ab",
   "metadata": {},
   "outputs": [
    {
     "data": {
      "image/png": "[encoded data removed]",
      "text/plain": [
       "<Figure size 432x288 with 1 Axes>"
      ]
     },
     "metadata": {
      "needs_background": "light"
     },
     "output_type": "display_data"
    }
   ],
   "source": [
    "plt.plot(k,binomial,'o-')\n",
    "plt.title('Binomial: n=%i, p=%.2f' % (n,p), fontsize=15)\n",
    "plt.xlabel('Number of Sucesses')\n",
    "plt.ylabel('Probability of Sucesses')\n",
    "plt.show()"
   ]
  },
  {
   "cell_type": "code",
   "execution_count": 10,
   "id": "40d4a324",
   "metadata": {},
   "outputs": [],
   "source": [
    "n=len(binomial)"
   ]
  },
  {
   "cell_type": "code",
   "execution_count": 11,
   "id": "eaad4ab2",
   "metadata": {},
   "outputs": [
    {
     "data": {
      "text/plain": [
       "8"
      ]
     },
     "execution_count": 11,
     "metadata": {},
     "output_type": "execute_result"
    }
   ],
   "source": [
    "n"
   ]
  },
  {
   "cell_type": "code",
   "execution_count": 12,
   "id": "54790330",
   "metadata": {},
   "outputs": [
    {
     "data": {
      "text/plain": [
       "0.9999999999999999"
      ]
     },
     "execution_count": 12,
     "metadata": {},
     "output_type": "execute_result"
    }
   ],
   "source": [
    "sum(binomial)"
   ]
  }
 ],
 "metadata": {
  "kernelspec": {
   "display_name": "Python 3 (ipykernel)",
   "language": "python",
   "name": "python3"
  },
  "language_info": {
   "codemirror_mode": {
    "name": "ipython",
    "version": 3
   },
   "file_extension": ".py",
   "mimetype": "text/x-python",
   "name": "python",
   "nbconvert_exporter": "python",
   "pygments_lexer": "ipython3",
   "version": "3.9.7"
  }
 },
 "nbformat": 4,
 "nbformat_minor": 5
}
