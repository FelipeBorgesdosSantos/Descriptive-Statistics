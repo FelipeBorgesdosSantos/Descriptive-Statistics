{
 "cells": [
  {
   "cell_type": "code",
   "execution_count": 2,
   "id": "48bb6646",
   "metadata": {},
   "outputs": [],
   "source": [
    "import numpy as np\n",
    "import scipy.stats as stats\n",
    "import matplotlib.pyplot as plt"
   ]
  },
  {
   "cell_type": "code",
   "execution_count": 20,
   "id": "d1747d4f",
   "metadata": {},
   "outputs": [],
   "source": [
    "#6 customers arrive at every 2 minutes:\n",
    "rate = 2"
   ]
  },
  {
   "cell_type": "code",
   "execution_count": 21,
   "id": "38addcbd",
   "metadata": {},
   "outputs": [],
   "source": [
    "# Not come from the problem, its is set randomly... just to visualize the distribution \n",
    "# (after 20 it is kind of constant) - Strategy: just guess a number, \n",
    "# and adjust it based on the distribution chart\n",
    "n=np.arange(0,20)"
   ]
  },
  {
   "cell_type": "code",
   "execution_count": 22,
   "id": "ab3ca404",
   "metadata": {},
   "outputs": [],
   "source": [
    "poisson = stats.poisson.pmf(n,rate)"
   ]
  },
  {
   "cell_type": "code",
   "execution_count": 23,
   "id": "f4c8035e",
   "metadata": {},
   "outputs": [
    {
     "data": {
      "text/plain": [
       "array([1.35335283e-01, 2.70670566e-01, 2.70670566e-01, 1.80447044e-01,\n",
       "       9.02235222e-02, 3.60894089e-02, 1.20298030e-02, 3.43708656e-03,\n",
       "       8.59271640e-04, 1.90949253e-04, 3.81898506e-05, 6.94360921e-06,\n",
       "       1.15726820e-06, 1.78041262e-07, 2.54344660e-08, 3.39126213e-09,\n",
       "       4.23907766e-10, 4.98715019e-11, 5.54127799e-12, 5.83292420e-13])"
      ]
     },
     "execution_count": 23,
     "metadata": {},
     "output_type": "execute_result"
    }
   ],
   "source": [
    "poisson"
   ]
  },
  {
   "cell_type": "code",
   "execution_count": 24,
   "id": "2db59b3d",
   "metadata": {},
   "outputs": [
    {
     "data": {
      "text/plain": [
       "0.1353352832366127"
      ]
     },
     "execution_count": 24,
     "metadata": {},
     "output_type": "execute_result"
    }
   ],
   "source": [
    "poisson[0]"
   ]
  },
  {
   "cell_type": "code",
   "execution_count": 12,
   "id": "112b8da1",
   "metadata": {},
   "outputs": [
    {
     "data": {
      "text/plain": [
       "0.1032577335308442"
      ]
     },
     "execution_count": 12,
     "metadata": {},
     "output_type": "execute_result"
    }
   ],
   "source": [
    "poisson[8]"
   ]
  },
  {
   "cell_type": "code",
   "execution_count": 10,
   "id": "67e57b7d",
   "metadata": {},
   "outputs": [
    {
     "data": {
      "text/plain": [
       "0.8487961172233521"
      ]
     },
     "execution_count": 10,
     "metadata": {},
     "output_type": "execute_result"
    }
   ],
   "source": [
    "1-(poisson[0]+poisson[1]+poisson[2]+poisson[3])"
   ]
  },
  {
   "cell_type": "code",
   "execution_count": 11,
   "id": "c7942148",
   "metadata": {},
   "outputs": [
    {
     "data": {
      "image/png": "[encoded data removed]",
      "text/plain": [
       "<Figure size 432x288 with 1 Axes>"
      ]
     },
     "metadata": {
      "needs_background": "light"
     },
     "output_type": "display_data"
    }
   ],
   "source": [
    "plt.plot(n,poisson, 'o-')\n",
    "plt.title('Poisson: $/lambda$ = %i ' % rate)\n",
    "plt.xlabel('Number of Customers Arriving in a minute')\n",
    "plt.ylabel('Probability of Number of Customers arriving in a minute')\n",
    "plt.show()"
   ]
  },
  {
   "cell_type": "code",
   "execution_count": 13,
   "id": "2bc3552f",
   "metadata": {},
   "outputs": [],
   "source": [
    "# Normal Distribution: Problem Solution\n",
    "\n",
    "#a-) Solution A:\n",
    "\n",
    "#Calculating z value:\n",
    "z=(0.28-0.295)/0.025"
   ]
  },
  {
   "cell_type": "code",
   "execution_count": 14,
   "id": "97c4a96a",
   "metadata": {},
   "outputs": [
    {
     "name": "stdout",
     "output_type": "stream",
     "text": [
      "-0.5999999999999983\n"
     ]
    }
   ],
   "source": [
    "print(z)"
   ]
  },
  {
   "cell_type": "code",
   "execution_count": 16,
   "id": "6921ccb6",
   "metadata": {},
   "outputs": [
    {
     "data": {
      "text/plain": [
       "0.2742531177500736"
      ]
     },
     "execution_count": 16,
     "metadata": {},
     "output_type": "execute_result"
    }
   ],
   "source": [
    "#Use the calculated z value to calculate the probability or the area under the curve to the left \n",
    "#of this z-value:\n",
    "stats.norm.cdf(-0.6)"
   ]
  },
  {
   "cell_type": "code",
   "execution_count": 17,
   "id": "049efdd0",
   "metadata": {},
   "outputs": [
    {
     "data": {
      "text/plain": [
       "0.2742531177500741"
      ]
     },
     "execution_count": 17,
     "metadata": {},
     "output_type": "execute_result"
    }
   ],
   "source": [
    "#Solution B:\n",
    "    \n",
    "stats.norm.cdf(.280, loc=.295,scale=.025)\n",
    "#scale = std dev\n",
    "#loc = mean"
   ]
  },
  {
   "cell_type": "code",
   "execution_count": 18,
   "id": "f6f946d4",
   "metadata": {},
   "outputs": [
    {
     "name": "stdout",
     "output_type": "stream",
     "text": [
      "0.01390344751349859\n"
     ]
    }
   ],
   "source": [
    "# b-) pack > 0.350 kg\n",
    "a = stats.norm.cdf(.350, loc=.295,scale=.025)\n",
    "print(1-a)"
   ]
  },
  {
   "cell_type": "code",
   "execution_count": 32,
   "id": "7065fbb6",
   "metadata": {},
   "outputs": [
    {
     "name": "stdout",
     "output_type": "stream",
     "text": [
      "0.3085375387259869\n"
     ]
    }
   ],
   "source": [
    "#mean=26cm\n",
    "#std dev = 1 cm\n",
    "#>27 or <24 discarded\n",
    "a = stats.norm.cdf(5250, loc=5000,scale=500)\n",
    "print(1-a)"
   ]
  },
  {
   "cell_type": "code",
   "execution_count": 28,
   "id": "a28b93c8",
   "metadata": {},
   "outputs": [
    {
     "name": "stdout",
     "output_type": "stream",
     "text": [
      "0.15865525393145707\n"
     ]
    }
   ],
   "source": [
    "b = 1 - stats.norm.cdf(27, loc=26,scale=1)\n",
    "print(b)"
   ]
  },
  {
   "cell_type": "code",
   "execution_count": 29,
   "id": "12c4892a",
   "metadata": {},
   "outputs": [
    {
     "data": {
      "text/plain": [
       "0.18140538587963628"
      ]
     },
     "execution_count": 29,
     "metadata": {},
     "output_type": "execute_result"
    }
   ],
   "source": [
    "a+b"
   ]
  },
  {
   "cell_type": "code",
   "execution_count": 30,
   "id": "a5d70a72",
   "metadata": {},
   "outputs": [
    {
     "data": {
      "text/plain": [
       "90.70269293981814"
      ]
     },
     "execution_count": 30,
     "metadata": {},
     "output_type": "execute_result"
    }
   ],
   "source": [
    "(a+b)*500"
   ]
  },
  {
   "cell_type": "code",
   "execution_count": 19,
   "id": "9127c6a9",
   "metadata": {},
   "outputs": [
    {
     "name": "stdout",
     "output_type": "stream",
     "text": [
      "0.8833130216533032\n"
     ]
    }
   ],
   "source": [
    "# c-) between 0.260 kg <= pack <= 0.340 kg\n",
    "\n",
    "a = stats.norm.cdf(.340, loc=.295,scale=.025)\n",
    "b = stats.norm.cdf(.260, loc=.295,scale=.025)\n",
    "print(a-b)"
   ]
  }
 ],
 "metadata": {
  "kernelspec": {
   "display_name": "Python 3 (ipykernel)",
   "language": "python",
   "name": "python3"
  },
  "language_info": {
   "codemirror_mode": {
    "name": "ipython",
    "version": 3
   },
   "file_extension": ".py",
   "mimetype": "text/x-python",
   "name": "python",
   "nbconvert_exporter": "python",
   "pygments_lexer": "ipython3",
   "version": "3.9.7"
  }
 },
 "nbformat": 4,
 "nbformat_minor": 5
}
